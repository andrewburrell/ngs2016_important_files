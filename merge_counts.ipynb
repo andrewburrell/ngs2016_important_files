{
 "cells": [
  {
   "cell_type": "code",
   "execution_count": 3,
   "metadata": {
    "collapsed": true
   },
   "outputs": [],
   "source": [
    "import os\n",
    "from os import path\n",
    "import pandas as pd"
   ]
  },
  {
   "cell_type": "code",
   "execution_count": 2,
   "metadata": {
    "collapsed": false,
    "scrolled": true
   },
   "outputs": [
    {
     "name": "stdout",
     "output_type": "stream",
     "text": [
      "['.DS_Store', 'ORE_sdE3_r1_GTGGCC_L004', 'ORE_sdE3_r2_TGACCA_L005', 'ORE_w_r1_ATCACG_L001', 'ORE_w_r2_GTTTCG_L002', 'OREf_SAMm_sdE3_ATTCCT_L002', 'OREf_SAMm_w_GTCCGC_L006', 'SAM_sdE3_r1_ATGTCA_L006', 'SAM_sdE3_r2_GCCAAT_L007', 'SAM_w_r1_ACTTGA_L003', 'SAM_w_r2_GAGTGG_L004', 'SAMf_OREm_sdE3_TAGCTT_L001', 'SAMf_OREm_w_CAGATC_L005']\n"
     ]
    }
   ],
   "source": [
    "txp_file = \"quantification/txp_to_gene.tsv\"\n",
    "# get txp names as index\n",
    "listofsamples = os.listdir(\"quantification/quants\")\n",
    "print listofsamples\n",
    "quants = {}\n",
    "data = None\n",
    "for sample in listofsamples:\n",
    "    if os.path.isdir(\"quantification/quants/\"+sample):\n",
    "        if os.path.isfile(\"quantification/quants/\"+sample+\"/quant.sf\"):\n",
    "            quant_file = \"quantification/quants/\"+sample+\"/quant.sf\"\n",
    "            data=pd.DataFrame.from_csv(quant_file,sep='\\t')\n",
    "            tpm = data['TPM']\n",
    "            quants[sample] = tpm\n",
    "\n",
    "counts = pd.DataFrame.from_dict(quants)\n",
    "counts.set_index(data.index,inplace=True)\n",
    "counts.to_csv(\"counts.csv\")"
   ]
  },
  {
   "cell_type": "code",
   "execution_count": 4,
   "metadata": {
    "collapsed": false
   },
   "outputs": [
    {
     "name": "stdout",
     "output_type": "stream",
     "text": [
      "Hello wordl, and I am going to scre up\n"
     ]
    }
   ],
   "source": [
    "print \"Hello wordl, and I am going to scre up\""
   ]
  },
  {
   "cell_type": "code",
   "execution_count": null,
   "metadata": {
    "collapsed": true
   },
   "outputs": [],
   "source": []
  }
 ],
 "metadata": {
  "kernelspec": {
   "display_name": "Python 2",
   "language": "python",
   "name": "python2"
  },
  "language_info": {
   "codemirror_mode": {
    "name": "ipython",
    "version": 2
   },
   "file_extension": ".py",
   "mimetype": "text/x-python",
   "name": "python",
   "nbconvert_exporter": "python",
   "pygments_lexer": "ipython2",
   "version": "2.7.11"
  }
 },
 "nbformat": 4,
 "nbformat_minor": 0
}
